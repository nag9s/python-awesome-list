{
  "nbformat": 4,
  "nbformat_minor": 0,
  "metadata": {
    "anaconda-cloud": {},
    "kernelspec": {
      "display_name": "Python 3",
      "language": "python",
      "name": "python3"
    },
    "language_info": {
      "codemirror_mode": {
        "name": "ipython",
        "version": 3
      },
      "file_extension": ".py",
      "mimetype": "text/x-python",
      "name": "python",
      "nbconvert_exporter": "python",
      "pygments_lexer": "ipython3",
      "version": "3.5.1"
    },
    "colab": {
      "name": "03.05-Hierarchical-Indexing.ipynb",
      "provenance": [],
      "include_colab_link": true
    }
  },
  "cells": [
    {
      "cell_type": "markdown",
      "metadata": {
        "id": "view-in-github",
        "colab_type": "text"
      },
      "source": [
        "<a href=\"https://colab.research.google.com/github/nag9s/python-awesome-list/blob/master/Data%20Science/03_05_Hierarchical_Indexing.ipynb\" target=\"_parent\"><img src=\"https://colab.research.google.com/assets/colab-badge.svg\" alt=\"Open In Colab\"/></a>"
      ]
    },
    {
      "cell_type": "markdown",
      "metadata": {
        "deletable": true,
        "editable": true,
        "id": "ZmQaVRFlR4sm",
        "colab_type": "text"
      },
      "source": [
        "<!--BOOK_INFORMATION-->\n",
        "<img align=\"left\" style=\"padding-right:10px;\" src=\"https://github.com/jakevdp/PythonDataScienceHandbook/blob/master/notebooks/figures/PDSH-cover-small.png?raw=1\">\n",
        "\n",
        "*This notebook contains an excerpt from the [Python Data Science Handbook](http://shop.oreilly.com/product/0636920034919.do) by Jake VanderPlas; the content is available [on GitHub](https://github.com/jakevdp/PythonDataScienceHandbook).*\n",
        "\n",
        "*The text is released under the [CC-BY-NC-ND license](https://creativecommons.org/licenses/by-nc-nd/3.0/us/legalcode), and code is released under the [MIT license](https://opensource.org/licenses/MIT). If you find this content useful, please consider supporting the work by [buying the book](http://shop.oreilly.com/product/0636920034919.do)!*"
      ]
    },
    {
      "cell_type": "markdown",
      "metadata": {
        "deletable": true,
        "editable": true,
        "id": "nSkWMSf0R4st",
        "colab_type": "text"
      },
      "source": [
        "<!--NAVIGATION-->\n",
        "< [Handling Missing Data](03.04-Missing-Values.ipynb) | [Contents](Index.ipynb) | [Combining Datasets: Concat and Append](03.06-Concat-And-Append.ipynb) >\n",
        "\n",
        "<a href=\"https://colab.research.google.com/github/jakevdp/PythonDataScienceHandbook/blob/master/notebooks/03.05-Hierarchical-Indexing.ipynb\"><img align=\"left\" src=\"https://colab.research.google.com/assets/colab-badge.svg\" alt=\"Open in Colab\" title=\"Open and Execute in Google Colaboratory\"></a>\n"
      ]
    },
    {
      "cell_type": "markdown",
      "metadata": {
        "id": "GVi-OZ8GR4su",
        "colab_type": "text"
      },
      "source": [
        "# Hierarchical Indexing"
      ]
    },
    {
      "cell_type": "markdown",
      "metadata": {
        "deletable": true,
        "editable": true,
        "id": "ZjVJvjwzR4sw",
        "colab_type": "text"
      },
      "source": [
        "Up to this point we've been focused primarily on one-dimensional and two-dimensional data, stored in Pandas ``Series`` and ``DataFrame`` objects, respectively.\n",
        "Often it is useful to go beyond this and store higher-dimensional data–that is, data indexed by more than one or two keys.\n",
        "While Pandas does provide ``Panel`` and ``Panel4D`` objects that natively handle three-dimensional and four-dimensional data (see [Aside: Panel Data](#Aside:-Panel-Data)), a far more common pattern in practice is to make use of *hierarchical indexing* (also known as *multi-indexing*) to incorporate multiple index *levels* within a single index.\n",
        "In this way, higher-dimensional data can be compactly represented within the familiar one-dimensional ``Series`` and two-dimensional ``DataFrame`` objects.\n",
        "\n",
        "In this section, we'll explore the direct creation of ``MultiIndex`` objects, considerations when indexing, slicing, and computing statistics across multiply indexed data, and useful routines for converting between simple and hierarchically indexed representations of your data.\n",
        "\n",
        "We begin with the standard imports:"
      ]
    },
    {
      "cell_type": "code",
      "metadata": {
        "deletable": true,
        "editable": true,
        "id": "l7tNh2NnR4sy",
        "colab_type": "code",
        "colab": {}
      },
      "source": [
        "import pandas as pd\n",
        "import numpy as np"
      ],
      "execution_count": null,
      "outputs": []
    },
    {
      "cell_type": "markdown",
      "metadata": {
        "deletable": true,
        "editable": true,
        "id": "wv4MlPLBR4tA",
        "colab_type": "text"
      },
      "source": [
        "## A Multiply Indexed Series\n",
        "\n",
        "Let's start by considering how we might represent two-dimensional data within a one-dimensional ``Series``.\n",
        "For concreteness, we will consider a series of data where each point has a character and numerical key."
      ]
    },
    {
      "cell_type": "markdown",
      "metadata": {
        "deletable": true,
        "editable": true,
        "id": "14ZbtwayR4tB",
        "colab_type": "text"
      },
      "source": [
        "### The bad way\n",
        "\n",
        "Suppose you would like to track data about states from two different years.\n",
        "Using the Pandas tools we've already covered, you might be tempted to simply use Python tuples as keys:"
      ]
    },
    {
      "cell_type": "code",
      "metadata": {
        "deletable": true,
        "editable": true,
        "id": "9UelPEszR4tC",
        "colab_type": "code",
        "colab": {},
        "outputId": "6a45b84c-9597-48a8-f7fd-67467d49f204"
      },
      "source": [
        "index = [('California', 2000), ('California', 2010),\n",
        "         ('New York', 2000), ('New York', 2010),\n",
        "         ('Texas', 2000), ('Texas', 2010)]\n",
        "populations = [33871648, 37253956,\n",
        "               18976457, 19378102,\n",
        "               20851820, 25145561]\n",
        "pop = pd.Series(populations, index=index)\n",
        "pop"
      ],
      "execution_count": null,
      "outputs": [
        {
          "output_type": "execute_result",
          "data": {
            "text/plain": [
              "(California, 2000)    33871648\n",
              "(California, 2010)    37253956\n",
              "(New York, 2000)      18976457\n",
              "(New York, 2010)      19378102\n",
              "(Texas, 2000)         20851820\n",
              "(Texas, 2010)         25145561\n",
              "dtype: int64"
            ]
          },
          "metadata": {
            "tags": []
          },
          "execution_count": 2
        }
      ]
    },
    {
      "cell_type": "markdown",
      "metadata": {
        "deletable": true,
        "editable": true,
        "id": "rLAVY1BzR4tI",
        "colab_type": "text"
      },
      "source": [
        "With this indexing scheme, you can straightforwardly index or slice the series based on this multiple index:"
      ]
    },
    {
      "cell_type": "code",
      "metadata": {
        "deletable": true,
        "editable": true,
        "id": "qCGD_C4dR4tJ",
        "colab_type": "code",
        "colab": {},
        "outputId": "baf622d8-d301-4f3d-b557-9a9594cf55f7"
      },
      "source": [
        "pop[('California', 2010):('Texas', 2000)]"
      ],
      "execution_count": null,
      "outputs": [
        {
          "output_type": "execute_result",
          "data": {
            "text/plain": [
              "(California, 2010)    37253956\n",
              "(New York, 2000)      18976457\n",
              "(New York, 2010)      19378102\n",
              "(Texas, 2000)         20851820\n",
              "dtype: int64"
            ]
          },
          "metadata": {
            "tags": []
          },
          "execution_count": 3
        }
      ]
    },
    {
      "cell_type": "markdown",
      "metadata": {
        "deletable": true,
        "editable": true,
        "id": "6q7EWYoQR4tO",
        "colab_type": "text"
      },
      "source": [
        "But the convenience ends there. For example, if you need to select all values from 2010, you'll need to do some messy (and potentially slow) munging to make it happen:"
      ]
    },
    {
      "cell_type": "code",
      "metadata": {
        "deletable": true,
        "editable": true,
        "id": "h5DiT0LJR4tP",
        "colab_type": "code",
        "colab": {},
        "outputId": "df0b31f1-f79c-430b-ec20-0dc0a64da98b"
      },
      "source": [
        "pop[[i for i in pop.index if i[1] == 2010]]"
      ],
      "execution_count": null,
      "outputs": [
        {
          "output_type": "execute_result",
          "data": {
            "text/plain": [
              "(California, 2010)    37253956\n",
              "(New York, 2010)      19378102\n",
              "(Texas, 2010)         25145561\n",
              "dtype: int64"
            ]
          },
          "metadata": {
            "tags": []
          },
          "execution_count": 4
        }
      ]
    },
    {
      "cell_type": "markdown",
      "metadata": {
        "deletable": true,
        "editable": true,
        "id": "EX9_YSI0R4tT",
        "colab_type": "text"
      },
      "source": [
        "This produces the desired result, but is not as clean (or as efficient for large datasets) as the slicing syntax we've grown to love in Pandas."
      ]
    },
    {
      "cell_type": "markdown",
      "metadata": {
        "deletable": true,
        "editable": true,
        "id": "E_eUs9lcR4tU",
        "colab_type": "text"
      },
      "source": [
        "### The Better Way: Pandas MultiIndex\n",
        "Fortunately, Pandas provides a better way.\n",
        "Our tuple-based indexing is essentially a rudimentary multi-index, and the Pandas ``MultiIndex`` type gives us the type of operations we wish to have.\n",
        "We can create a multi-index from the tuples as follows:"
      ]
    },
    {
      "cell_type": "code",
      "metadata": {
        "deletable": true,
        "editable": true,
        "id": "gc1MOitmR4tW",
        "colab_type": "code",
        "colab": {},
        "outputId": "97a9976e-958f-456a-acad-7b72f32be9d3"
      },
      "source": [
        "index = pd.MultiIndex.from_tuples(index)\n",
        "index"
      ],
      "execution_count": null,
      "outputs": [
        {
          "output_type": "execute_result",
          "data": {
            "text/plain": [
              "MultiIndex(levels=[['California', 'New York', 'Texas'], [2000, 2010]],\n",
              "           labels=[[0, 0, 1, 1, 2, 2], [0, 1, 0, 1, 0, 1]])"
            ]
          },
          "metadata": {
            "tags": []
          },
          "execution_count": 5
        }
      ]
    },
    {
      "cell_type": "markdown",
      "metadata": {
        "deletable": true,
        "editable": true,
        "id": "6L9vhm2OR4th",
        "colab_type": "text"
      },
      "source": [
        "Notice that the ``MultiIndex`` contains multiple *levels* of indexing–in this case, the state names and the years, as well as multiple *labels* for each data point which encode these levels.\n",
        "\n",
        "If we re-index our series with this ``MultiIndex``, we see the hierarchical representation of the data:"
      ]
    },
    {
      "cell_type": "code",
      "metadata": {
        "deletable": true,
        "editable": true,
        "id": "cOFlG5ZLR4tj",
        "colab_type": "code",
        "colab": {},
        "outputId": "61dc2877-e3eb-4407-c00e-add1eeaa372d"
      },
      "source": [
        "pop = pop.reindex(index)\n",
        "pop"
      ],
      "execution_count": null,
      "outputs": [
        {
          "output_type": "execute_result",
          "data": {
            "text/plain": [
              "California  2000    33871648\n",
              "            2010    37253956\n",
              "New York    2000    18976457\n",
              "            2010    19378102\n",
              "Texas       2000    20851820\n",
              "            2010    25145561\n",
              "dtype: int64"
            ]
          },
          "metadata": {
            "tags": []
          },
          "execution_count": 6
        }
      ]
    },
    {
      "cell_type": "markdown",
      "metadata": {
        "deletable": true,
        "editable": true,
        "id": "2x3t5U8DR4t-",
        "colab_type": "text"
      },
      "source": [
        "Here the first two columns of the ``Series`` representation show the multiple index values, while the third column shows the data.\n",
        "Notice that some entries are missing in the first column: in this multi-index representation, any blank entry indicates the same value as the line above it."
      ]
    },
    {
      "cell_type": "markdown",
      "metadata": {
        "deletable": true,
        "editable": true,
        "id": "GT7JZx_1R4uB",
        "colab_type": "text"
      },
      "source": [
        "Now to access all data for which the second index is 2010, we can simply use the Pandas slicing notation:"
      ]
    },
    {
      "cell_type": "code",
      "metadata": {
        "deletable": true,
        "editable": true,
        "id": "8vH4MNyMR4uC",
        "colab_type": "code",
        "colab": {},
        "outputId": "98809b73-f158-4dd9-acc0-a2deb8348013"
      },
      "source": [
        "pop[:, 2010]"
      ],
      "execution_count": null,
      "outputs": [
        {
          "output_type": "execute_result",
          "data": {
            "text/plain": [
              "California    37253956\n",
              "New York      19378102\n",
              "Texas         25145561\n",
              "dtype: int64"
            ]
          },
          "metadata": {
            "tags": []
          },
          "execution_count": 7
        }
      ]
    },
    {
      "cell_type": "markdown",
      "metadata": {
        "deletable": true,
        "editable": true,
        "id": "iM6vGiQ8R4uX",
        "colab_type": "text"
      },
      "source": [
        "The result is a singly indexed array with just the keys we're interested in.\n",
        "This syntax is much more convenient (and the operation is much more efficient!) than the home-spun tuple-based multi-indexing solution that we started with.\n",
        "We'll now further discuss this sort of indexing operation on hieararchically indexed data."
      ]
    },
    {
      "cell_type": "markdown",
      "metadata": {
        "deletable": true,
        "editable": true,
        "id": "gAW1MkQ0R4uY",
        "colab_type": "text"
      },
      "source": [
        "### MultiIndex as extra dimension\n",
        "\n",
        "You might notice something else here: we could easily have stored the same data using a simple ``DataFrame`` with index and column labels.\n",
        "In fact, Pandas is built with this equivalence in mind. The ``unstack()`` method will quickly convert a multiply indexed ``Series`` into a conventionally indexed ``DataFrame``:"
      ]
    },
    {
      "cell_type": "code",
      "metadata": {
        "deletable": true,
        "editable": true,
        "id": "ltG7hLZIR4ug",
        "colab_type": "code",
        "colab": {},
        "outputId": "3565460b-f800-4128-aea0-57067559c720"
      },
      "source": [
        "pop_df = pop.unstack()\n",
        "pop_df"
      ],
      "execution_count": null,
      "outputs": [
        {
          "output_type": "execute_result",
          "data": {
            "text/html": [
              "<div>\n",
              "<table border=\"1\" class=\"dataframe\">\n",
              "  <thead>\n",
              "    <tr style=\"text-align: right;\">\n",
              "      <th></th>\n",
              "      <th>2000</th>\n",
              "      <th>2010</th>\n",
              "    </tr>\n",
              "  </thead>\n",
              "  <tbody>\n",
              "    <tr>\n",
              "      <th>California</th>\n",
              "      <td>33871648</td>\n",
              "      <td>37253956</td>\n",
              "    </tr>\n",
              "    <tr>\n",
              "      <th>New York</th>\n",
              "      <td>18976457</td>\n",
              "      <td>19378102</td>\n",
              "    </tr>\n",
              "    <tr>\n",
              "      <th>Texas</th>\n",
              "      <td>20851820</td>\n",
              "      <td>25145561</td>\n",
              "    </tr>\n",
              "  </tbody>\n",
              "</table>\n",
              "</div>"
            ],
            "text/plain": [
              "                2000      2010\n",
              "California  33871648  37253956\n",
              "New York    18976457  19378102\n",
              "Texas       20851820  25145561"
            ]
          },
          "metadata": {
            "tags": []
          },
          "execution_count": 8
        }
      ]
    },
    {
      "cell_type": "markdown",
      "metadata": {
        "deletable": true,
        "editable": true,
        "id": "oLnWiGYAR4uy",
        "colab_type": "text"
      },
      "source": [
        "Naturally, the ``stack()`` method provides the opposite operation:"
      ]
    },
    {
      "cell_type": "code",
      "metadata": {
        "deletable": true,
        "editable": true,
        "id": "lPigzGuTR4vN",
        "colab_type": "code",
        "colab": {},
        "outputId": "13f4c3b3-5625-4257-eab7-7edb25855253"
      },
      "source": [
        "pop_df.stack()"
      ],
      "execution_count": null,
      "outputs": [
        {
          "output_type": "execute_result",
          "data": {
            "text/plain": [
              "California  2000    33871648\n",
              "            2010    37253956\n",
              "New York    2000    18976457\n",
              "            2010    19378102\n",
              "Texas       2000    20851820\n",
              "            2010    25145561\n",
              "dtype: int64"
            ]
          },
          "metadata": {
            "tags": []
          },
          "execution_count": 9
        }
      ]
    },
    {
      "cell_type": "markdown",
      "metadata": {
        "deletable": true,
        "editable": true,
        "id": "Ckrz5v2YR4vZ",
        "colab_type": "text"
      },
      "source": [
        "Seeing this, you might wonder why would we would bother with hierarchical indexing at all.\n",
        "The reason is simple: just as we were able to use multi-indexing to represent two-dimensional data within a one-dimensional ``Series``, we can also use it to represent data of three or more dimensions in a ``Series`` or ``DataFrame``.\n",
        "Each extra level in a multi-index represents an extra dimension of data; taking advantage of this property gives us much more flexibility in the types of data we can represent. Concretely, we might want to add another column of demographic data for each state at each year (say, population under 18) ; with a ``MultiIndex`` this is as easy as adding another column to the ``DataFrame``:"
      ]
    },
    {
      "cell_type": "code",
      "metadata": {
        "deletable": true,
        "editable": true,
        "id": "FppG_ufUR4vc",
        "colab_type": "code",
        "colab": {},
        "outputId": "6b30f8af-975f-48bb-dc31-15865a153f51"
      },
      "source": [
        "pop_df = pd.DataFrame({'total': pop,\n",
        "                       'under18': [9267089, 9284094,\n",
        "                                   4687374, 4318033,\n",
        "                                   5906301, 6879014]})\n",
        "pop_df"
      ],
      "execution_count": null,
      "outputs": [
        {
          "output_type": "execute_result",
          "data": {
            "text/html": [
              "<div>\n",
              "<table border=\"1\" class=\"dataframe\">\n",
              "  <thead>\n",
              "    <tr style=\"text-align: right;\">\n",
              "      <th></th>\n",
              "      <th></th>\n",
              "      <th>total</th>\n",
              "      <th>under18</th>\n",
              "    </tr>\n",
              "  </thead>\n",
              "  <tbody>\n",
              "    <tr>\n",
              "      <th rowspan=\"2\" valign=\"top\">California</th>\n",
              "      <th>2000</th>\n",
              "      <td>33871648</td>\n",
              "      <td>9267089</td>\n",
              "    </tr>\n",
              "    <tr>\n",
              "      <th>2010</th>\n",
              "      <td>37253956</td>\n",
              "      <td>9284094</td>\n",
              "    </tr>\n",
              "    <tr>\n",
              "      <th rowspan=\"2\" valign=\"top\">New York</th>\n",
              "      <th>2000</th>\n",
              "      <td>18976457</td>\n",
              "      <td>4687374</td>\n",
              "    </tr>\n",
              "    <tr>\n",
              "      <th>2010</th>\n",
              "      <td>19378102</td>\n",
              "      <td>4318033</td>\n",
              "    </tr>\n",
              "    <tr>\n",
              "      <th rowspan=\"2\" valign=\"top\">Texas</th>\n",
              "      <th>2000</th>\n",
              "      <td>20851820</td>\n",
              "      <td>5906301</td>\n",
              "    </tr>\n",
              "    <tr>\n",
              "      <th>2010</th>\n",
              "      <td>25145561</td>\n",
              "      <td>6879014</td>\n",
              "    </tr>\n",
              "  </tbody>\n",
              "</table>\n",
              "</div>"
            ],
            "text/plain": [
              "                    total  under18\n",
              "California 2000  33871648  9267089\n",
              "           2010  37253956  9284094\n",
              "New York   2000  18976457  4687374\n",
              "           2010  19378102  4318033\n",
              "Texas      2000  20851820  5906301\n",
              "           2010  25145561  6879014"
            ]
          },
          "metadata": {
            "tags": []
          },
          "execution_count": 10
        }
      ]
    },
    {
      "cell_type": "markdown",
      "metadata": {
        "deletable": true,
        "editable": true,
        "id": "tZ3ZJIebR4v2",
        "colab_type": "text"
      },
      "source": [
        "In addition, all the ufuncs and other functionality discussed in [Operating on Data in Pandas](03.03-Operations-in-Pandas.ipynb) work with hierarchical indices as well.\n",
        "Here we compute the fraction of people under 18 by year, given the above data:"
      ]
    },
    {
      "cell_type": "code",
      "metadata": {
        "deletable": true,
        "editable": true,
        "id": "5KEWusCeR4v5",
        "colab_type": "code",
        "colab": {},
        "outputId": "4d309419-cf2d-4bbc-be1e-65449d662a29"
      },
      "source": [
        "f_u18 = pop_df['under18'] / pop_df['total']\n",
        "f_u18.unstack()"
      ],
      "execution_count": null,
      "outputs": [
        {
          "output_type": "execute_result",
          "data": {
            "text/html": [
              "<div>\n",
              "<table border=\"1\" class=\"dataframe\">\n",
              "  <thead>\n",
              "    <tr style=\"text-align: right;\">\n",
              "      <th></th>\n",
              "      <th>2000</th>\n",
              "      <th>2010</th>\n",
              "    </tr>\n",
              "  </thead>\n",
              "  <tbody>\n",
              "    <tr>\n",
              "      <th>California</th>\n",
              "      <td>0.273594</td>\n",
              "      <td>0.249211</td>\n",
              "    </tr>\n",
              "    <tr>\n",
              "      <th>New York</th>\n",
              "      <td>0.247010</td>\n",
              "      <td>0.222831</td>\n",
              "    </tr>\n",
              "    <tr>\n",
              "      <th>Texas</th>\n",
              "      <td>0.283251</td>\n",
              "      <td>0.273568</td>\n",
              "    </tr>\n",
              "  </tbody>\n",
              "</table>\n",
              "</div>"
            ],
            "text/plain": [
              "                2000      2010\n",
              "California  0.273594  0.249211\n",
              "New York    0.247010  0.222831\n",
              "Texas       0.283251  0.273568"
            ]
          },
          "metadata": {
            "tags": []
          },
          "execution_count": 11
        }
      ]
    },
    {
      "cell_type": "markdown",
      "metadata": {
        "deletable": true,
        "editable": true,
        "id": "mQndPpsbR4wD",
        "colab_type": "text"
      },
      "source": [
        "This allows us to easily and quickly manipulate and explore even high-dimensional data."
      ]
    },
    {
      "cell_type": "markdown",
      "metadata": {
        "deletable": true,
        "editable": true,
        "id": "p3cq3_9gR4wE",
        "colab_type": "text"
      },
      "source": [
        "## Methods of MultiIndex Creation\n",
        "\n",
        "The most straightforward way to construct a multiply indexed ``Series`` or ``DataFrame`` is to simply pass a list of two or more index arrays to the constructor. For example:"
      ]
    },
    {
      "cell_type": "code",
      "metadata": {
        "deletable": true,
        "editable": true,
        "id": "jyfPbt9XR4wJ",
        "colab_type": "code",
        "colab": {},
        "outputId": "d7b9b3ae-0f41-4f1d-b699-3d67d5d6d703"
      },
      "source": [
        "df = pd.DataFrame(np.random.rand(4, 2),\n",
        "                  index=[['a', 'a', 'b', 'b'], [1, 2, 1, 2]],\n",
        "                  columns=['data1', 'data2'])\n",
        "df"
      ],
      "execution_count": null,
      "outputs": [
        {
          "output_type": "execute_result",
          "data": {
            "text/html": [
              "<div>\n",
              "<table border=\"1\" class=\"dataframe\">\n",
              "  <thead>\n",
              "    <tr style=\"text-align: right;\">\n",
              "      <th></th>\n",
              "      <th></th>\n",
              "      <th>data1</th>\n",
              "      <th>data2</th>\n",
              "    </tr>\n",
              "  </thead>\n",
              "  <tbody>\n",
              "    <tr>\n",
              "      <th rowspan=\"2\" valign=\"top\">a</th>\n",
              "      <th>1</th>\n",
              "      <td>0.554233</td>\n",
              "      <td>0.356072</td>\n",
              "    </tr>\n",
              "    <tr>\n",
              "      <th>2</th>\n",
              "      <td>0.925244</td>\n",
              "      <td>0.219474</td>\n",
              "    </tr>\n",
              "    <tr>\n",
              "      <th rowspan=\"2\" valign=\"top\">b</th>\n",
              "      <th>1</th>\n",
              "      <td>0.441759</td>\n",
              "      <td>0.610054</td>\n",
              "    </tr>\n",
              "    <tr>\n",
              "      <th>2</th>\n",
              "      <td>0.171495</td>\n",
              "      <td>0.886688</td>\n",
              "    </tr>\n",
              "  </tbody>\n",
              "</table>\n",
              "</div>"
            ],
            "text/plain": [
              "        data1     data2\n",
              "a 1  0.554233  0.356072\n",
              "  2  0.925244  0.219474\n",
              "b 1  0.441759  0.610054\n",
              "  2  0.171495  0.886688"
            ]
          },
          "metadata": {
            "tags": []
          },
          "execution_count": 12
        }
      ]
    },
    {
      "cell_type": "markdown",
      "metadata": {
        "deletable": true,
        "editable": true,
        "id": "cZ01wxHrR4wV",
        "colab_type": "text"
      },
      "source": [
        "The work of creating the ``MultiIndex`` is done in the background.\n",
        "\n",
        "Similarly, if you pass a dictionary with appropriate tuples as keys, Pandas will automatically recognize this and use a ``MultiIndex`` by default:"
      ]
    },
    {
      "cell_type": "code",
      "metadata": {
        "deletable": true,
        "editable": true,
        "id": "PUbqex6SR4wX",
        "colab_type": "code",
        "colab": {},
        "outputId": "f403d8e7-e259-4cb5-cab9-57e73d03e2f4"
      },
      "source": [
        "data = {('California', 2000): 33871648,\n",
        "        ('California', 2010): 37253956,\n",
        "        ('Texas', 2000): 20851820,\n",
        "        ('Texas', 2010): 25145561,\n",
        "        ('New York', 2000): 18976457,\n",
        "        ('New York', 2010): 19378102}\n",
        "pd.Series(data)"
      ],
      "execution_count": null,
      "outputs": [
        {
          "output_type": "execute_result",
          "data": {
            "text/plain": [
              "California  2000    33871648\n",
              "            2010    37253956\n",
              "New York    2000    18976457\n",
              "            2010    19378102\n",
              "Texas       2000    20851820\n",
              "            2010    25145561\n",
              "dtype: int64"
            ]
          },
          "metadata": {
            "tags": []
          },
          "execution_count": 13
        }
      ]
    },
    {
      "cell_type": "markdown",
      "metadata": {
        "deletable": true,
        "editable": true,
        "id": "8zYj4J8tR4wk",
        "colab_type": "text"
      },
      "source": [
        "Nevertheless, it is sometimes useful to explicitly create a ``MultiIndex``; we'll see a couple of these methods here."
      ]
    },
    {
      "cell_type": "markdown",
      "metadata": {
        "deletable": true,
        "editable": true,
        "id": "k9BTOD79R4wm",
        "colab_type": "text"
      },
      "source": [
        "### Explicit MultiIndex constructors\n",
        "\n",
        "For more flexibility in how the index is constructed, you can instead use the class method constructors available in the ``pd.MultiIndex``.\n",
        "For example, as we did before, you can construct the ``MultiIndex`` from a simple list of arrays giving the index values within each level:"
      ]
    },
    {
      "cell_type": "code",
      "metadata": {
        "deletable": true,
        "editable": true,
        "id": "w9263eTnR4wn",
        "colab_type": "code",
        "colab": {},
        "outputId": "c572aa21-b844-4394-ee8a-703b8961138e"
      },
      "source": [
        "pd.MultiIndex.from_arrays([['a', 'a', 'b', 'b'], [1, 2, 1, 2]])"
      ],
      "execution_count": null,
      "outputs": [
        {
          "output_type": "execute_result",
          "data": {
            "text/plain": [
              "MultiIndex(levels=[['a', 'b'], [1, 2]],\n",
              "           labels=[[0, 0, 1, 1], [0, 1, 0, 1]])"
            ]
          },
          "metadata": {
            "tags": []
          },
          "execution_count": 14
        }
      ]
    },
    {
      "cell_type": "markdown",
      "metadata": {
        "deletable": true,
        "editable": true,
        "id": "J6l6mPRcR4wy",
        "colab_type": "text"
      },
      "source": [
        "You can construct it from a list of tuples giving the multiple index values of each point:"
      ]
    },
    {
      "cell_type": "code",
      "metadata": {
        "deletable": true,
        "editable": true,
        "id": "0Po7G_lVR4wz",
        "colab_type": "code",
        "colab": {},
        "outputId": "0a445715-20ef-442d-b54d-3a9eee511760"
      },
      "source": [
        "pd.MultiIndex.from_tuples([('a', 1), ('a', 2), ('b', 1), ('b', 2)])"
      ],
      "execution_count": null,
      "outputs": [
        {
          "output_type": "execute_result",
          "data": {
            "text/plain": [
              "MultiIndex(levels=[['a', 'b'], [1, 2]],\n",
              "           labels=[[0, 0, 1, 1], [0, 1, 0, 1]])"
            ]
          },
          "metadata": {
            "tags": []
          },
          "execution_count": 15
        }
      ]
    },
    {
      "cell_type": "markdown",
      "metadata": {
        "deletable": true,
        "editable": true,
        "id": "3xPgINNuR4w7",
        "colab_type": "text"
      },
      "source": [
        "You can even construct it from a Cartesian product of single indices:"
      ]
    },
    {
      "cell_type": "code",
      "metadata": {
        "deletable": true,
        "editable": true,
        "id": "d7VMlaovR4w-",
        "colab_type": "code",
        "colab": {},
        "outputId": "8323004e-b9c3-4e5d-983e-12b00c330f80"
      },
      "source": [
        "pd.MultiIndex.from_product([['a', 'b'], [1, 2]])"
      ],
      "execution_count": null,
      "outputs": [
        {
          "output_type": "execute_result",
          "data": {
            "text/plain": [
              "MultiIndex(levels=[['a', 'b'], [1, 2]],\n",
              "           labels=[[0, 0, 1, 1], [0, 1, 0, 1]])"
            ]
          },
          "metadata": {
            "tags": []
          },
          "execution_count": 16
        }
      ]
    },
    {
      "cell_type": "markdown",
      "metadata": {
        "deletable": true,
        "editable": true,
        "id": "Bga7ROIXR4xh",
        "colab_type": "text"
      },
      "source": [
        "Similarly, you can construct the ``MultiIndex`` directly using its internal encoding by passing ``levels`` (a list of lists containing available index values for each level) and ``labels`` (a list of lists that reference these labels):"
      ]
    },
    {
      "cell_type": "code",
      "metadata": {
        "deletable": true,
        "editable": true,
        "id": "B374hBU3R4xi",
        "colab_type": "code",
        "colab": {},
        "outputId": "fc9a6148-08c0-49d9-93c6-aa8ee97f8b80"
      },
      "source": [
        "pd.MultiIndex(levels=[['a', 'b'], [1, 2]],\n",
        "              labels=[[0, 0, 1, 1], [0, 1, 0, 1]])"
      ],
      "execution_count": null,
      "outputs": [
        {
          "output_type": "execute_result",
          "data": {
            "text/plain": [
              "MultiIndex(levels=[['a', 'b'], [1, 2]],\n",
              "           labels=[[0, 0, 1, 1], [0, 1, 0, 1]])"
            ]
          },
          "metadata": {
            "tags": []
          },
          "execution_count": 17
        }
      ]
    },
    {
      "cell_type": "markdown",
      "metadata": {
        "deletable": true,
        "editable": true,
        "id": "zRay4ThOR4xq",
        "colab_type": "text"
      },
      "source": [
        "Any of these objects can be passed as the ``index`` argument when creating a ``Series`` or ``Dataframe``, or be passed to the ``reindex`` method of an existing ``Series`` or ``DataFrame``."
      ]
    },
    {
      "cell_type": "markdown",
      "metadata": {
        "deletable": true,
        "editable": true,
        "id": "qSJwtuH5R4xr",
        "colab_type": "text"
      },
      "source": [
        "### MultiIndex level names\n",
        "\n",
        "Sometimes it is convenient to name the levels of the ``MultiIndex``.\n",
        "This can be accomplished by passing the ``names`` argument to any of the above ``MultiIndex`` constructors, or by setting the ``names`` attribute of the index after the fact:"
      ]
    },
    {
      "cell_type": "code",
      "metadata": {
        "deletable": true,
        "editable": true,
        "id": "A7MyIs8eR4xs",
        "colab_type": "code",
        "colab": {},
        "outputId": "dfc7bbe6-4468-4736-bb47-23ba2a5ca2a9"
      },
      "source": [
        "pop.index.names = ['state', 'year']\n",
        "pop"
      ],
      "execution_count": null,
      "outputs": [
        {
          "output_type": "execute_result",
          "data": {
            "text/plain": [
              "state       year\n",
              "California  2000    33871648\n",
              "            2010    37253956\n",
              "New York    2000    18976457\n",
              "            2010    19378102\n",
              "Texas       2000    20851820\n",
              "            2010    25145561\n",
              "dtype: int64"
            ]
          },
          "metadata": {
            "tags": []
          },
          "execution_count": 18
        }
      ]
    },
    {
      "cell_type": "markdown",
      "metadata": {
        "deletable": true,
        "editable": true,
        "id": "6cB2nFyLR4xz",
        "colab_type": "text"
      },
      "source": [
        "With more involved datasets, this can be a useful way to keep track of the meaning of various index values."
      ]
    },
    {
      "cell_type": "markdown",
      "metadata": {
        "deletable": true,
        "editable": true,
        "id": "4SmAQ2XMR4x1",
        "colab_type": "text"
      },
      "source": [
        "### MultiIndex for columns\n",
        "\n",
        "In a ``DataFrame``, the rows and columns are completely symmetric, and just as the rows can have multiple levels of indices, the columns can have multiple levels as well.\n",
        "Consider the following, which is a mock-up of some (somewhat realistic) medical data:"
      ]
    },
    {
      "cell_type": "code",
      "metadata": {
        "deletable": true,
        "editable": true,
        "id": "EJ6QlRjPR4x2",
        "colab_type": "code",
        "colab": {},
        "outputId": "1cc0ae02-1013-4565-fcc5-d0a51ff74d43"
      },
      "source": [
        "# hierarchical indices and columns\n",
        "index = pd.MultiIndex.from_product([[2013, 2014], [1, 2]],\n",
        "                                   names=['year', 'visit'])\n",
        "columns = pd.MultiIndex.from_product([['Bob', 'Guido', 'Sue'], ['HR', 'Temp']],\n",
        "                                     names=['subject', 'type'])\n",
        "\n",
        "# mock some data\n",
        "data = np.round(np.random.randn(4, 6), 1)\n",
        "data[:, ::2] *= 10\n",
        "data += 37\n",
        "\n",
        "# create the DataFrame\n",
        "health_data = pd.DataFrame(data, index=index, columns=columns)\n",
        "health_data"
      ],
      "execution_count": null,
      "outputs": [
        {
          "output_type": "execute_result",
          "data": {
            "text/html": [
              "<div>\n",
              "<table border=\"1\" class=\"dataframe\">\n",
              "  <thead>\n",
              "    <tr>\n",
              "      <th></th>\n",
              "      <th>subject</th>\n",
              "      <th colspan=\"2\" halign=\"left\">Bob</th>\n",
              "      <th colspan=\"2\" halign=\"left\">Guido</th>\n",
              "      <th colspan=\"2\" halign=\"left\">Sue</th>\n",
              "    </tr>\n",
              "    <tr>\n",
              "      <th></th>\n",
              "      <th>type</th>\n",
              "      <th>HR</th>\n",
              "      <th>Temp</th>\n",
              "      <th>HR</th>\n",
              "      <th>Temp</th>\n",
              "      <th>HR</th>\n",
              "      <th>Temp</th>\n",
              "    </tr>\n",
              "    <tr>\n",
              "      <th>year</th>\n",
              "      <th>visit</th>\n",
              "      <th></th>\n",
              "      <th></th>\n",
              "      <th></th>\n",
              "      <th></th>\n",
              "      <th></th>\n",
              "      <th></th>\n",
              "    </tr>\n",
              "  </thead>\n",
              "  <tbody>\n",
              "    <tr>\n",
              "      <th rowspan=\"2\" valign=\"top\">2013</th>\n",
              "      <th>1</th>\n",
              "      <td>31.0</td>\n",
              "      <td>38.7</td>\n",
              "      <td>32.0</td>\n",
              "      <td>36.7</td>\n",
              "      <td>35.0</td>\n",
              "      <td>37.2</td>\n",
              "    </tr>\n",
              "    <tr>\n",
              "      <th>2</th>\n",
              "      <td>44.0</td>\n",
              "      <td>37.7</td>\n",
              "      <td>50.0</td>\n",
              "      <td>35.0</td>\n",
              "      <td>29.0</td>\n",
              "      <td>36.7</td>\n",
              "    </tr>\n",
              "    <tr>\n",
              "      <th rowspan=\"2\" valign=\"top\">2014</th>\n",
              "      <th>1</th>\n",
              "      <td>30.0</td>\n",
              "      <td>37.4</td>\n",
              "      <td>39.0</td>\n",
              "      <td>37.8</td>\n",
              "      <td>61.0</td>\n",
              "      <td>36.9</td>\n",
              "    </tr>\n",
              "    <tr>\n",
              "      <th>2</th>\n",
              "      <td>47.0</td>\n",
              "      <td>37.8</td>\n",
              "      <td>48.0</td>\n",
              "      <td>37.3</td>\n",
              "      <td>51.0</td>\n",
              "      <td>36.5</td>\n",
              "    </tr>\n",
              "  </tbody>\n",
              "</table>\n",
              "</div>"
            ],
            "text/plain": [
              "subject      Bob       Guido         Sue      \n",
              "type          HR  Temp    HR  Temp    HR  Temp\n",
              "year visit                                    \n",
              "2013 1      31.0  38.7  32.0  36.7  35.0  37.2\n",
              "     2      44.0  37.7  50.0  35.0  29.0  36.7\n",
              "2014 1      30.0  37.4  39.0  37.8  61.0  36.9\n",
              "     2      47.0  37.8  48.0  37.3  51.0  36.5"
            ]
          },
          "metadata": {
            "tags": []
          },
          "execution_count": 19
        }
      ]
    },
    {
      "cell_type": "markdown",
      "metadata": {
        "deletable": true,
        "editable": true,
        "id": "tZbsxjlNR4x9",
        "colab_type": "text"
      },
      "source": [
        "Here we see where the multi-indexing for both rows and columns can come in *very* handy.\n",
        "This is fundamentally four-dimensional data, where the dimensions are the subject, the measurement type, the year, and the visit number.\n",
        "With this in place we can, for example, index the top-level column by the person's name and get a full ``DataFrame`` containing just that person's information:"
      ]
    },
    {
      "cell_type": "code",
      "metadata": {
        "deletable": true,
        "editable": true,
        "id": "F9oyCqlOR4x-",
        "colab_type": "code",
        "colab": {},
        "outputId": "50a2aa71-90f9-4a8c-ba10-4155b62970c1"
      },
      "source": [
        "health_data['Guido']"
      ],
      "execution_count": null,
      "outputs": [
        {
          "output_type": "execute_result",
          "data": {
            "text/html": [
              "<div>\n",
              "<table border=\"1\" class=\"dataframe\">\n",
              "  <thead>\n",
              "    <tr style=\"text-align: right;\">\n",
              "      <th></th>\n",
              "      <th>type</th>\n",
              "      <th>HR</th>\n",
              "      <th>Temp</th>\n",
              "    </tr>\n",
              "    <tr>\n",
              "      <th>year</th>\n",
              "      <th>visit</th>\n",
              "      <th></th>\n",
              "      <th></th>\n",
              "    </tr>\n",
              "  </thead>\n",
              "  <tbody>\n",
              "    <tr>\n",
              "      <th rowspan=\"2\" valign=\"top\">2013</th>\n",
              "      <th>1</th>\n",
              "      <td>32.0</td>\n",
              "      <td>36.7</td>\n",
              "    </tr>\n",
              "    <tr>\n",
              "      <th>2</th>\n",
              "      <td>50.0</td>\n",
              "      <td>35.0</td>\n",
              "    </tr>\n",
              "    <tr>\n",
              "      <th rowspan=\"2\" valign=\"top\">2014</th>\n",
              "      <th>1</th>\n",
              "      <td>39.0</td>\n",
              "      <td>37.8</td>\n",
              "    </tr>\n",
              "    <tr>\n",
              "      <th>2</th>\n",
              "      <td>48.0</td>\n",
              "      <td>37.3</td>\n",
              "    </tr>\n",
              "  </tbody>\n",
              "</table>\n",
              "</div>"
            ],
            "text/plain": [
              "type          HR  Temp\n",
              "year visit            \n",
              "2013 1      32.0  36.7\n",
              "     2      50.0  35.0\n",
              "2014 1      39.0  37.8\n",
              "     2      48.0  37.3"
            ]
          },
          "metadata": {
            "tags": []
          },
          "execution_count": 20
        }
      ]
    },
    {
      "cell_type": "markdown",
      "metadata": {
        "deletable": true,
        "editable": true,
        "id": "fOHNJn4TR4yG",
        "colab_type": "text"
      },
      "source": [
        "For complicated records containing multiple labeled measurements across multiple times for many subjects (people, countries, cities, etc.) use of hierarchical rows and columns can be extremely convenient!"
      ]
    },
    {
      "cell_type": "markdown",
      "metadata": {
        "deletable": true,
        "editable": true,
        "id": "OtSrKHshR4yH",
        "colab_type": "text"
      },
      "source": [
        "## Indexing and Slicing a MultiIndex\n",
        "\n",
        "Indexing and slicing on a ``MultiIndex`` is designed to be intuitive, and it helps if you think about the indices as added dimensions.\n",
        "We'll first look at indexing multiply indexed ``Series``, and then multiply-indexed ``DataFrame``s."
      ]
    },
    {
      "cell_type": "markdown",
      "metadata": {
        "deletable": true,
        "editable": true,
        "id": "VjCIeHZ1R4yH",
        "colab_type": "text"
      },
      "source": [
        "### Multiply indexed Series\n",
        "\n",
        "Consider the multiply indexed ``Series`` of state populations we saw earlier:"
      ]
    },
    {
      "cell_type": "code",
      "metadata": {
        "deletable": true,
        "editable": true,
        "id": "Vvvqz1LLR4yI",
        "colab_type": "code",
        "colab": {},
        "outputId": "78f6cde5-bb4d-4ada-b716-7630bec8b59c"
      },
      "source": [
        "pop"
      ],
      "execution_count": null,
      "outputs": [
        {
          "output_type": "execute_result",
          "data": {
            "text/plain": [
              "state       year\n",
              "California  2000    33871648\n",
              "            2010    37253956\n",
              "New York    2000    18976457\n",
              "            2010    19378102\n",
              "Texas       2000    20851820\n",
              "            2010    25145561\n",
              "dtype: int64"
            ]
          },
          "metadata": {
            "tags": []
          },
          "execution_count": 21
        }
      ]
    },
    {
      "cell_type": "markdown",
      "metadata": {
        "deletable": true,
        "editable": true,
        "id": "46T6p9rjR4yM",
        "colab_type": "text"
      },
      "source": [
        "We can access single elements by indexing with multiple terms:"
      ]
    },
    {
      "cell_type": "code",
      "metadata": {
        "deletable": true,
        "editable": true,
        "id": "_6uOhB4hR4yN",
        "colab_type": "code",
        "colab": {},
        "outputId": "d15165c6-9de9-40e6-8f92-f0936e72e1dc"
      },
      "source": [
        "pop['California', 2000]"
      ],
      "execution_count": null,
      "outputs": [
        {
          "output_type": "execute_result",
          "data": {
            "text/plain": [
              "33871648"
            ]
          },
          "metadata": {
            "tags": []
          },
          "execution_count": 22
        }
      ]
    },
    {
      "cell_type": "markdown",
      "metadata": {
        "deletable": true,
        "editable": true,
        "id": "UH50QBvzR4yR",
        "colab_type": "text"
      },
      "source": [
        "The ``MultiIndex`` also supports *partial indexing*, or indexing just one of the levels in the index.\n",
        "The result is another ``Series``, with the lower-level indices maintained:"
      ]
    },
    {
      "cell_type": "code",
      "metadata": {
        "deletable": true,
        "editable": true,
        "id": "kAy-Bg2vR4yR",
        "colab_type": "code",
        "colab": {},
        "outputId": "789f7ec4-adc2-475a-e996-f01009d30084"
      },
      "source": [
        "pop['California']"
      ],
      "execution_count": null,
      "outputs": [
        {
          "output_type": "execute_result",
          "data": {
            "text/plain": [
              "year\n",
              "2000    33871648\n",
              "2010    37253956\n",
              "dtype: int64"
            ]
          },
          "metadata": {
            "tags": []
          },
          "execution_count": 23
        }
      ]
    },
    {
      "cell_type": "markdown",
      "metadata": {
        "deletable": true,
        "editable": true,
        "id": "BDr9k10nR4yX",
        "colab_type": "text"
      },
      "source": [
        "Partial slicing is available as well, as long as the ``MultiIndex`` is sorted (see discussion in [Sorted and Unsorted Indices](#Sorted-and-unsorted-indices)):"
      ]
    },
    {
      "cell_type": "code",
      "metadata": {
        "deletable": true,
        "editable": true,
        "id": "3bgy9mBNR4yY",
        "colab_type": "code",
        "colab": {},
        "outputId": "4f8a4249-12b0-4838-ac4a-59c2fedea22a"
      },
      "source": [
        "pop.loc['California':'New York']"
      ],
      "execution_count": null,
      "outputs": [
        {
          "output_type": "execute_result",
          "data": {
            "text/plain": [
              "state       year\n",
              "California  2000    33871648\n",
              "            2010    37253956\n",
              "New York    2000    18976457\n",
              "            2010    19378102\n",
              "dtype: int64"
            ]
          },
          "metadata": {
            "tags": []
          },
          "execution_count": 24
        }
      ]
    },
    {
      "cell_type": "markdown",
      "metadata": {
        "deletable": true,
        "editable": true,
        "id": "1bE3sYZjR4yg",
        "colab_type": "text"
      },
      "source": [
        "With sorted indices, partial indexing can be performed on lower levels by passing an empty slice in the first index:"
      ]
    },
    {
      "cell_type": "code",
      "metadata": {
        "deletable": true,
        "editable": true,
        "id": "Ot5-lPNkR4yh",
        "colab_type": "code",
        "colab": {},
        "outputId": "47c99b8e-8042-4493-ab88-2d3cfbabf4b5"
      },
      "source": [
        "pop[:, 2000]"
      ],
      "execution_count": null,
      "outputs": [
        {
          "output_type": "execute_result",
          "data": {
            "text/plain": [
              "state\n",
              "California    33871648\n",
              "New York      18976457\n",
              "Texas         20851820\n",
              "dtype: int64"
            ]
          },
          "metadata": {
            "tags": []
          },
          "execution_count": 25
        }
      ]
    },
    {
      "cell_type": "markdown",
      "metadata": {
        "deletable": true,
        "editable": true,
        "id": "PbUzT73nR4yo",
        "colab_type": "text"
      },
      "source": [
        "Other types of indexing and selection (discussed in [Data Indexing and Selection](03.02-Data-Indexing-and-Selection.ipynb)) work as well; for example, selection based on Boolean masks:"
      ]
    },
    {
      "cell_type": "code",
      "metadata": {
        "deletable": true,
        "editable": true,
        "id": "RlkZyeZuR4yp",
        "colab_type": "code",
        "colab": {},
        "outputId": "d76145fd-49fb-433c-a798-adf2392d3c59"
      },
      "source": [
        "pop[pop > 22000000]"
      ],
      "execution_count": null,
      "outputs": [
        {
          "output_type": "execute_result",
          "data": {
            "text/plain": [
              "state       year\n",
              "California  2000    33871648\n",
              "            2010    37253956\n",
              "Texas       2010    25145561\n",
              "dtype: int64"
            ]
          },
          "metadata": {
            "tags": []
          },
          "execution_count": 26
        }
      ]
    },
    {
      "cell_type": "markdown",
      "metadata": {
        "deletable": true,
        "editable": true,
        "id": "OGbnnLrjR4yv",
        "colab_type": "text"
      },
      "source": [
        "Selection based on fancy indexing also works:"
      ]
    },
    {
      "cell_type": "code",
      "metadata": {
        "deletable": true,
        "editable": true,
        "id": "Xw1-Ukz3R4yw",
        "colab_type": "code",
        "colab": {},
        "outputId": "876acb90-e57a-4e33-82ed-7b961eef6b25"
      },
      "source": [
        "pop[['California', 'Texas']]"
      ],
      "execution_count": null,
      "outputs": [
        {
          "output_type": "execute_result",
          "data": {
            "text/plain": [
              "state       year\n",
              "California  2000    33871648\n",
              "            2010    37253956\n",
              "Texas       2000    20851820\n",
              "            2010    25145561\n",
              "dtype: int64"
            ]
          },
          "metadata": {
            "tags": []
          },
          "execution_count": 27
        }
      ]
    },
    {
      "cell_type": "markdown",
      "metadata": {
        "deletable": true,
        "editable": true,
        "id": "AuESaaklR4y0",
        "colab_type": "text"
      },
      "source": [
        "### Multiply indexed DataFrames\n",
        "\n",
        "A multiply indexed ``DataFrame`` behaves in a similar manner.\n",
        "Consider our toy medical ``DataFrame`` from before:"
      ]
    },
    {
      "cell_type": "code",
      "metadata": {
        "deletable": true,
        "editable": true,
        "id": "U2MXI-yqR4y0",
        "colab_type": "code",
        "colab": {},
        "outputId": "81332386-bb9a-4373-c340-347d4a69ce1a"
      },
      "source": [
        "health_data"
      ],
      "execution_count": null,
      "outputs": [
        {
          "output_type": "execute_result",
          "data": {
            "text/html": [
              "<div>\n",
              "<table border=\"1\" class=\"dataframe\">\n",
              "  <thead>\n",
              "    <tr>\n",
              "      <th></th>\n",
              "      <th>subject</th>\n",
              "      <th colspan=\"2\" halign=\"left\">Bob</th>\n",
              "      <th colspan=\"2\" halign=\"left\">Guido</th>\n",
              "      <th colspan=\"2\" halign=\"left\">Sue</th>\n",
              "    </tr>\n",
              "    <tr>\n",
              "      <th></th>\n",
              "      <th>type</th>\n",
              "      <th>HR</th>\n",
              "      <th>Temp</th>\n",
              "      <th>HR</th>\n",
              "      <th>Temp</th>\n",
              "      <th>HR</th>\n",
              "      <th>Temp</th>\n",
              "    </tr>\n",
              "    <tr>\n",
              "      <th>year</th>\n",
              "      <th>visit</th>\n",
              "      <th></th>\n",
              "      <th></th>\n",
              "      <th></th>\n",
              "      <th></th>\n",
              "      <th></th>\n",
              "      <th></th>\n",
              "    </tr>\n",
              "  </thead>\n",
              "  <tbody>\n",
              "    <tr>\n",
              "      <th rowspan=\"2\" valign=\"top\">2013</th>\n",
              "      <th>1</th>\n",
              "      <td>31.0</td>\n",
              "      <td>38.7</td>\n",
              "      <td>32.0</td>\n",
              "      <td>36.7</td>\n",
              "      <td>35.0</td>\n",
              "      <td>37.2</td>\n",
              "    </tr>\n",
              "    <tr>\n",
              "      <th>2</th>\n",
              "      <td>44.0</td>\n",
              "      <td>37.7</td>\n",
              "      <td>50.0</td>\n",
              "      <td>35.0</td>\n",
              "      <td>29.0</td>\n",
              "      <td>36.7</td>\n",
              "    </tr>\n",
              "    <tr>\n",
              "      <th rowspan=\"2\" valign=\"top\">2014</th>\n",
              "      <th>1</th>\n",
              "      <td>30.0</td>\n",
              "      <td>37.4</td>\n",
              "      <td>39.0</td>\n",
              "      <td>37.8</td>\n",
              "      <td>61.0</td>\n",
              "      <td>36.9</td>\n",
              "    </tr>\n",
              "    <tr>\n",
              "      <th>2</th>\n",
              "      <td>47.0</td>\n",
              "      <td>37.8</td>\n",
              "      <td>48.0</td>\n",
              "      <td>37.3</td>\n",
              "      <td>51.0</td>\n",
              "      <td>36.5</td>\n",
              "    </tr>\n",
              "  </tbody>\n",
              "</table>\n",
              "</div>"
            ],
            "text/plain": [
              "subject      Bob       Guido         Sue      \n",
              "type          HR  Temp    HR  Temp    HR  Temp\n",
              "year visit                                    \n",
              "2013 1      31.0  38.7  32.0  36.7  35.0  37.2\n",
              "     2      44.0  37.7  50.0  35.0  29.0  36.7\n",
              "2014 1      30.0  37.4  39.0  37.8  61.0  36.9\n",
              "     2      47.0  37.8  48.0  37.3  51.0  36.5"
            ]
          },
          "metadata": {
            "tags": []
          },
          "execution_count": 28
        }
      ]
    },
    {
      "cell_type": "markdown",
      "metadata": {
        "deletable": true,
        "editable": true,
        "id": "ybbfxdVYR4y5",
        "colab_type": "text"
      },
      "source": [
        "Remember that columns are primary in a ``DataFrame``, and the syntax used for multiply indexed ``Series`` applies to the columns.\n",
        "For example, we can recover Guido's heart rate data with a simple operation:"
      ]
    },
    {
      "cell_type": "code",
      "metadata": {
        "deletable": true,
        "editable": true,
        "id": "38pA8Sn9R4y6",
        "colab_type": "code",
        "colab": {},
        "outputId": "feadcf23-3415-4578-fd5a-d7ddbd33b924"
      },
      "source": [
        "health_data['Guido', 'HR']"
      ],
      "execution_count": null,
      "outputs": [
        {
          "output_type": "execute_result",
          "data": {
            "text/plain": [
              "year  visit\n",
              "2013  1        32.0\n",
              "      2        50.0\n",
              "2014  1        39.0\n",
              "      2        48.0\n",
              "Name: (Guido, HR), dtype: float64"
            ]
          },
          "metadata": {
            "tags": []
          },
          "execution_count": 29
        }
      ]
    },
    {
      "cell_type": "markdown",
      "metadata": {
        "deletable": true,
        "editable": true,
        "id": "UjLIS7_FR4y-",
        "colab_type": "text"
      },
      "source": [
        "Also, as with the single-index case, we can use the ``loc``, ``iloc``, and ``ix`` indexers introduced in [Data Indexing and Selection](03.02-Data-Indexing-and-Selection.ipynb). For example:"
      ]
    },
    {
      "cell_type": "code",
      "metadata": {
        "deletable": true,
        "editable": true,
        "id": "fY3TZEvTR4y_",
        "colab_type": "code",
        "colab": {},
        "outputId": "7d914210-5238-40a9-9cd5-04ea67f44aac"
      },
      "source": [
        "health_data.iloc[:2, :2]"
      ],
      "execution_count": null,
      "outputs": [
        {
          "output_type": "execute_result",
          "data": {
            "text/html": [
              "<div>\n",
              "<table border=\"1\" class=\"dataframe\">\n",
              "  <thead>\n",
              "    <tr>\n",
              "      <th></th>\n",
              "      <th>subject</th>\n",
              "      <th colspan=\"2\" halign=\"left\">Bob</th>\n",
              "    </tr>\n",
              "    <tr>\n",
              "      <th></th>\n",
              "      <th>type</th>\n",
              "      <th>HR</th>\n",
              "      <th>Temp</th>\n",
              "    </tr>\n",
              "    <tr>\n",
              "      <th>year</th>\n",
              "      <th>visit</th>\n",
              "      <th></th>\n",
              "      <th></th>\n",
              "    </tr>\n",
              "  </thead>\n",
              "  <tbody>\n",
              "    <tr>\n",
              "      <th rowspan=\"2\" valign=\"top\">2013</th>\n",
              "      <th>1</th>\n",
              "      <td>31.0</td>\n",
              "      <td>38.7</td>\n",
              "    </tr>\n",
              "    <tr>\n",
              "      <th>2</th>\n",
              "      <td>44.0</td>\n",
              "      <td>37.7</td>\n",
              "    </tr>\n",
              "  </tbody>\n",
              "</table>\n",
              "</div>"
            ],
            "text/plain": [
              "subject      Bob      \n",
              "type          HR  Temp\n",
              "year visit            \n",
              "2013 1      31.0  38.7\n",
              "     2      44.0  37.7"
            ]
          },
          "metadata": {
            "tags": []
          },
          "execution_count": 30
        }
      ]
    },
    {
      "cell_type": "markdown",
      "metadata": {
        "deletable": true,
        "editable": true,
        "id": "3kAbus30R4zC",
        "colab_type": "text"
      },
      "source": [
        "These indexers provide an array-like view of the underlying two-dimensional data, but each individual index in ``loc`` or ``iloc`` can be passed a tuple of multiple indices. For example:"
      ]
    },
    {
      "cell_type": "code",
      "metadata": {
        "deletable": true,
        "editable": true,
        "id": "rnyYS64RR4zC",
        "colab_type": "code",
        "colab": {},
        "outputId": "5899b74b-b7bc-411d-fbf2-a80c60f6b934"
      },
      "source": [
        "health_data.loc[:, ('Bob', 'HR')]"
      ],
      "execution_count": null,
      "outputs": [
        {
          "output_type": "execute_result",
          "data": {
            "text/plain": [
              "year  visit\n",
              "2013  1        31.0\n",
              "      2        44.0\n",
              "2014  1        30.0\n",
              "      2        47.0\n",
              "Name: (Bob, HR), dtype: float64"
            ]
          },
          "metadata": {
            "tags": []
          },
          "execution_count": 31
        }
      ]
    },
    {
      "cell_type": "markdown",
      "metadata": {
        "deletable": true,
        "editable": true,
        "id": "8YDTriAuR4zG",
        "colab_type": "text"
      },
      "source": [
        "Working with slices within these index tuples is not especially convenient; trying to create a slice within a tuple will lead to a syntax error:"
      ]
    },
    {
      "cell_type": "code",
      "metadata": {
        "deletable": true,
        "editable": true,
        "id": "OVYUJ62JR4zH",
        "colab_type": "code",
        "colab": {},
        "outputId": "d51f86f6-012b-4d78-da4f-a2a0130f6344"
      },
      "source": [
        "health_data.loc[(:, 1), (:, 'HR')]"
      ],
      "execution_count": null,
      "outputs": [
        {
          "output_type": "error",
          "ename": "SyntaxError",
          "evalue": "invalid syntax (<ipython-input-32-8e3cc151e316>, line 1)",
          "traceback": [
            "\u001b[0;36m  File \u001b[0;32m\"<ipython-input-32-8e3cc151e316>\"\u001b[0;36m, line \u001b[0;32m1\u001b[0m\n\u001b[0;31m    health_data.loc[(:, 1), (:, 'HR')]\u001b[0m\n\u001b[0m                     ^\u001b[0m\n\u001b[0;31mSyntaxError\u001b[0m\u001b[0;31m:\u001b[0m invalid syntax\n"
          ]
        }
      ]
    },
    {
      "cell_type": "markdown",
      "metadata": {
        "deletable": true,
        "editable": true,
        "id": "yXJNLzkNR4zO",
        "colab_type": "text"
      },
      "source": [
        "You could get around this by building the desired slice explicitly using Python's built-in ``slice()`` function, but a better way in this context is to use an ``IndexSlice`` object, which Pandas provides for precisely this situation.\n",
        "For example:"
      ]
    },
    {
      "cell_type": "code",
      "metadata": {
        "deletable": true,
        "editable": true,
        "id": "Ue8uLgHlR4zP",
        "colab_type": "code",
        "colab": {},
        "outputId": "f759a951-4a1f-4081-ef91-7e4bf99bb9f1"
      },
      "source": [
        "idx = pd.IndexSlice\n",
        "health_data.loc[idx[:, 1], idx[:, 'HR']]"
      ],
      "execution_count": null,
      "outputs": [
        {
          "output_type": "execute_result",
          "data": {
            "text/html": [
              "<div>\n",
              "<table border=\"1\" class=\"dataframe\">\n",
              "  <thead>\n",
              "    <tr>\n",
              "      <th></th>\n",
              "      <th>subject</th>\n",
              "      <th>Bob</th>\n",
              "      <th>Guido</th>\n",
              "      <th>Sue</th>\n",
              "    </tr>\n",
              "    <tr>\n",
              "      <th></th>\n",
              "      <th>type</th>\n",
              "      <th>HR</th>\n",
              "      <th>HR</th>\n",
              "      <th>HR</th>\n",
              "    </tr>\n",
              "    <tr>\n",
              "      <th>year</th>\n",
              "      <th>visit</th>\n",
              "      <th></th>\n",
              "      <th></th>\n",
              "      <th></th>\n",
              "    </tr>\n",
              "  </thead>\n",
              "  <tbody>\n",
              "    <tr>\n",
              "      <th>2013</th>\n",
              "      <th>1</th>\n",
              "      <td>31.0</td>\n",
              "      <td>32.0</td>\n",
              "      <td>35.0</td>\n",
              "    </tr>\n",
              "    <tr>\n",
              "      <th>2014</th>\n",
              "      <th>1</th>\n",
              "      <td>30.0</td>\n",
              "      <td>39.0</td>\n",
              "      <td>61.0</td>\n",
              "    </tr>\n",
              "  </tbody>\n",
              "</table>\n",
              "</div>"
            ],
            "text/plain": [
              "subject      Bob Guido   Sue\n",
              "type          HR    HR    HR\n",
              "year visit                  \n",
              "2013 1      31.0  32.0  35.0\n",
              "2014 1      30.0  39.0  61.0"
            ]
          },
          "metadata": {
            "tags": []
          },
          "execution_count": 33
        }
      ]
    },
    {
      "cell_type": "markdown",
      "metadata": {
        "deletable": true,
        "editable": true,
        "id": "GY8byRQkR4zT",
        "colab_type": "text"
      },
      "source": [
        "There are so many ways to interact with data in multiply indexed ``Series`` and ``DataFrame``s, and as with many tools in this book the best way to become familiar with them is to try them out!"
      ]
    },
    {
      "cell_type": "markdown",
      "metadata": {
        "deletable": true,
        "editable": true,
        "id": "6gXWogDaR4zT",
        "colab_type": "text"
      },
      "source": [
        "## Rearranging Multi-Indices\n",
        "\n",
        "One of the keys to working with multiply indexed data is knowing how to effectively transform the data.\n",
        "There are a number of operations that will preserve all the information in the dataset, but rearrange it for the purposes of various computations.\n",
        "We saw a brief example of this in the ``stack()`` and ``unstack()`` methods, but there are many more ways to finely control the rearrangement of data between hierarchical indices and columns, and we'll explore them here."
      ]
    },
    {
      "cell_type": "markdown",
      "metadata": {
        "deletable": true,
        "editable": true,
        "id": "XDkiCJfpR4zU",
        "colab_type": "text"
      },
      "source": [
        "### Sorted and unsorted indices\n",
        "\n",
        "Earlier, we briefly mentioned a caveat, but we should emphasize it more here.\n",
        "*Many of the ``MultiIndex`` slicing operations will fail if the index is not sorted.*\n",
        "Let's take a look at this here.\n",
        "\n",
        "We'll start by creating some simple multiply indexed data where the indices are *not lexographically sorted*:"
      ]
    },
    {
      "cell_type": "code",
      "metadata": {
        "deletable": true,
        "editable": true,
        "id": "ApgvJavOR4zW",
        "colab_type": "code",
        "colab": {},
        "outputId": "d802ca92-c856-48bc-b582-67dde8224ebe"
      },
      "source": [
        "index = pd.MultiIndex.from_product([['a', 'c', 'b'], [1, 2]])\n",
        "data = pd.Series(np.random.rand(6), index=index)\n",
        "data.index.names = ['char', 'int']\n",
        "data"
      ],
      "execution_count": null,
      "outputs": [
        {
          "output_type": "execute_result",
          "data": {
            "text/plain": [
              "char  int\n",
              "a     1      0.003001\n",
              "      2      0.164974\n",
              "c     1      0.741650\n",
              "      2      0.569264\n",
              "b     1      0.001693\n",
              "      2      0.526226\n",
              "dtype: float64"
            ]
          },
          "metadata": {
            "tags": []
          },
          "execution_count": 34
        }
      ]
    },
    {
      "cell_type": "markdown",
      "metadata": {
        "deletable": true,
        "editable": true,
        "id": "19mZkSoRR4ze",
        "colab_type": "text"
      },
      "source": [
        "If we try to take a partial slice of this index, it will result in an error:"
      ]
    },
    {
      "cell_type": "code",
      "metadata": {
        "deletable": true,
        "editable": true,
        "id": "SEqFw5HhR4zf",
        "colab_type": "code",
        "colab": {},
        "outputId": "7180d317-84cd-4f82-bd86-cd02b6691104"
      },
      "source": [
        "try:\n",
        "    data['a':'b']\n",
        "except KeyError as e:\n",
        "    print(type(e))\n",
        "    print(e)"
      ],
      "execution_count": null,
      "outputs": [
        {
          "output_type": "stream",
          "text": [
            "<class 'KeyError'>\n",
            "'Key length (1) was greater than MultiIndex lexsort depth (0)'\n"
          ],
          "name": "stdout"
        }
      ]
    },
    {
      "cell_type": "markdown",
      "metadata": {
        "deletable": true,
        "editable": true,
        "id": "aAlU8JhFR4zj",
        "colab_type": "text"
      },
      "source": [
        "Although it is not entirely clear from the error message, this is the result of the MultiIndex not being sorted.\n",
        "For various reasons, partial slices and other similar operations require the levels in the ``MultiIndex`` to be in sorted (i.e., lexographical) order.\n",
        "Pandas provides a number of convenience routines to perform this type of sorting; examples are the ``sort_index()`` and ``sortlevel()`` methods of the ``DataFrame``.\n",
        "We'll use the simplest, ``sort_index()``, here:"
      ]
    },
    {
      "cell_type": "code",
      "metadata": {
        "deletable": true,
        "editable": true,
        "id": "SZ4ctdd7R4zk",
        "colab_type": "code",
        "colab": {},
        "outputId": "4198476c-fbea-4632-a198-95abf564fa00"
      },
      "source": [
        "data = data.sort_index()\n",
        "data"
      ],
      "execution_count": null,
      "outputs": [
        {
          "output_type": "execute_result",
          "data": {
            "text/plain": [
              "char  int\n",
              "a     1      0.003001\n",
              "      2      0.164974\n",
              "b     1      0.001693\n",
              "      2      0.526226\n",
              "c     1      0.741650\n",
              "      2      0.569264\n",
              "dtype: float64"
            ]
          },
          "metadata": {
            "tags": []
          },
          "execution_count": 36
        }
      ]
    },
    {
      "cell_type": "markdown",
      "metadata": {
        "deletable": true,
        "editable": true,
        "id": "-KqEujJrR4zq",
        "colab_type": "text"
      },
      "source": [
        "With the index sorted in this way, partial slicing will work as expected:"
      ]
    },
    {
      "cell_type": "code",
      "metadata": {
        "deletable": true,
        "editable": true,
        "id": "3dTCZbuDR4zr",
        "colab_type": "code",
        "colab": {},
        "outputId": "5db8ff93-9389-40b1-a0fb-ffb180dd0c7f"
      },
      "source": [
        "data['a':'b']"
      ],
      "execution_count": null,
      "outputs": [
        {
          "output_type": "execute_result",
          "data": {
            "text/plain": [
              "char  int\n",
              "a     1      0.003001\n",
              "      2      0.164974\n",
              "b     1      0.001693\n",
              "      2      0.526226\n",
              "dtype: float64"
            ]
          },
          "metadata": {
            "tags": []
          },
          "execution_count": 37
        }
      ]
    },
    {
      "cell_type": "markdown",
      "metadata": {
        "deletable": true,
        "editable": true,
        "id": "y-mag7QGR4zu",
        "colab_type": "text"
      },
      "source": [
        "### Stacking and unstacking indices\n",
        "\n",
        "As we saw briefly before, it is possible to convert a dataset from a stacked multi-index to a simple two-dimensional representation, optionally specifying the level to use:"
      ]
    },
    {
      "cell_type": "code",
      "metadata": {
        "deletable": true,
        "editable": true,
        "id": "8SCuinVZR4zw",
        "colab_type": "code",
        "colab": {},
        "outputId": "8d772d3f-0bd2-4e6a-f328-a89c931848da"
      },
      "source": [
        "pop.unstack(level=0)"
      ],
      "execution_count": null,
      "outputs": [
        {
          "output_type": "execute_result",
          "data": {
            "text/html": [
              "<div>\n",
              "<table border=\"1\" class=\"dataframe\">\n",
              "  <thead>\n",
              "    <tr style=\"text-align: right;\">\n",
              "      <th>state</th>\n",
              "      <th>California</th>\n",
              "      <th>New York</th>\n",
              "      <th>Texas</th>\n",
              "    </tr>\n",
              "    <tr>\n",
              "      <th>year</th>\n",
              "      <th></th>\n",
              "      <th></th>\n",
              "      <th></th>\n",
              "    </tr>\n",
              "  </thead>\n",
              "  <tbody>\n",
              "    <tr>\n",
              "      <th>2000</th>\n",
              "      <td>33871648</td>\n",
              "      <td>18976457</td>\n",
              "      <td>20851820</td>\n",
              "    </tr>\n",
              "    <tr>\n",
              "      <th>2010</th>\n",
              "      <td>37253956</td>\n",
              "      <td>19378102</td>\n",
              "      <td>25145561</td>\n",
              "    </tr>\n",
              "  </tbody>\n",
              "</table>\n",
              "</div>"
            ],
            "text/plain": [
              "state  California  New York     Texas\n",
              "year                                 \n",
              "2000     33871648  18976457  20851820\n",
              "2010     37253956  19378102  25145561"
            ]
          },
          "metadata": {
            "tags": []
          },
          "execution_count": 38
        }
      ]
    },
    {
      "cell_type": "code",
      "metadata": {
        "deletable": true,
        "editable": true,
        "id": "KlxitEn3R4zy",
        "colab_type": "code",
        "colab": {},
        "outputId": "0468e7d3-9eed-48ea-adc6-4ef6949cd0e8"
      },
      "source": [
        "pop.unstack(level=1)"
      ],
      "execution_count": null,
      "outputs": [
        {
          "output_type": "execute_result",
          "data": {
            "text/html": [
              "<div>\n",
              "<table border=\"1\" class=\"dataframe\">\n",
              "  <thead>\n",
              "    <tr style=\"text-align: right;\">\n",
              "      <th>year</th>\n",
              "      <th>2000</th>\n",
              "      <th>2010</th>\n",
              "    </tr>\n",
              "    <tr>\n",
              "      <th>state</th>\n",
              "      <th></th>\n",
              "      <th></th>\n",
              "    </tr>\n",
              "  </thead>\n",
              "  <tbody>\n",
              "    <tr>\n",
              "      <th>California</th>\n",
              "      <td>33871648</td>\n",
              "      <td>37253956</td>\n",
              "    </tr>\n",
              "    <tr>\n",
              "      <th>New York</th>\n",
              "      <td>18976457</td>\n",
              "      <td>19378102</td>\n",
              "    </tr>\n",
              "    <tr>\n",
              "      <th>Texas</th>\n",
              "      <td>20851820</td>\n",
              "      <td>25145561</td>\n",
              "    </tr>\n",
              "  </tbody>\n",
              "</table>\n",
              "</div>"
            ],
            "text/plain": [
              "year            2000      2010\n",
              "state                         \n",
              "California  33871648  37253956\n",
              "New York    18976457  19378102\n",
              "Texas       20851820  25145561"
            ]
          },
          "metadata": {
            "tags": []
          },
          "execution_count": 39
        }
      ]
    },
    {
      "cell_type": "markdown",
      "metadata": {
        "deletable": true,
        "editable": true,
        "id": "Y3psIWy3R4z3",
        "colab_type": "text"
      },
      "source": [
        "The opposite of ``unstack()`` is ``stack()``, which here can be used to recover the original series:"
      ]
    },
    {
      "cell_type": "code",
      "metadata": {
        "deletable": true,
        "editable": true,
        "id": "eou8gh08R4z5",
        "colab_type": "code",
        "colab": {},
        "outputId": "e2d26806-ee19-45f2-f1de-bbe884037e63"
      },
      "source": [
        "pop.unstack().stack()"
      ],
      "execution_count": null,
      "outputs": [
        {
          "output_type": "execute_result",
          "data": {
            "text/plain": [
              "state       year\n",
              "California  2000    33871648\n",
              "            2010    37253956\n",
              "New York    2000    18976457\n",
              "            2010    19378102\n",
              "Texas       2000    20851820\n",
              "            2010    25145561\n",
              "dtype: int64"
            ]
          },
          "metadata": {
            "tags": []
          },
          "execution_count": 40
        }
      ]
    },
    {
      "cell_type": "markdown",
      "metadata": {
        "deletable": true,
        "editable": true,
        "id": "MQ2tSvn2R4z9",
        "colab_type": "text"
      },
      "source": [
        "### Index setting and resetting\n",
        "\n",
        "Another way to rearrange hierarchical data is to turn the index labels into columns; this can be accomplished with the ``reset_index`` method.\n",
        "Calling this on the population dictionary will result in a ``DataFrame`` with a *state* and *year* column holding the information that was formerly in the index.\n",
        "For clarity, we can optionally specify the name of the data for the column representation:"
      ]
    },
    {
      "cell_type": "code",
      "metadata": {
        "deletable": true,
        "editable": true,
        "id": "eBriDxXVR4z9",
        "colab_type": "code",
        "colab": {},
        "outputId": "e214129e-3de6-4223-aeb8-3e6858fc71eb"
      },
      "source": [
        "pop_flat = pop.reset_index(name='population')\n",
        "pop_flat"
      ],
      "execution_count": null,
      "outputs": [
        {
          "output_type": "execute_result",
          "data": {
            "text/html": [
              "<div>\n",
              "<table border=\"1\" class=\"dataframe\">\n",
              "  <thead>\n",
              "    <tr style=\"text-align: right;\">\n",
              "      <th></th>\n",
              "      <th>state</th>\n",
              "      <th>year</th>\n",
              "      <th>population</th>\n",
              "    </tr>\n",
              "  </thead>\n",
              "  <tbody>\n",
              "    <tr>\n",
              "      <th>0</th>\n",
              "      <td>California</td>\n",
              "      <td>2000</td>\n",
              "      <td>33871648</td>\n",
              "    </tr>\n",
              "    <tr>\n",
              "      <th>1</th>\n",
              "      <td>California</td>\n",
              "      <td>2010</td>\n",
              "      <td>37253956</td>\n",
              "    </tr>\n",
              "    <tr>\n",
              "      <th>2</th>\n",
              "      <td>New York</td>\n",
              "      <td>2000</td>\n",
              "      <td>18976457</td>\n",
              "    </tr>\n",
              "    <tr>\n",
              "      <th>3</th>\n",
              "      <td>New York</td>\n",
              "      <td>2010</td>\n",
              "      <td>19378102</td>\n",
              "    </tr>\n",
              "    <tr>\n",
              "      <th>4</th>\n",
              "      <td>Texas</td>\n",
              "      <td>2000</td>\n",
              "      <td>20851820</td>\n",
              "    </tr>\n",
              "    <tr>\n",
              "      <th>5</th>\n",
              "      <td>Texas</td>\n",
              "      <td>2010</td>\n",
              "      <td>25145561</td>\n",
              "    </tr>\n",
              "  </tbody>\n",
              "</table>\n",
              "</div>"
            ],
            "text/plain": [
              "        state  year  population\n",
              "0  California  2000    33871648\n",
              "1  California  2010    37253956\n",
              "2    New York  2000    18976457\n",
              "3    New York  2010    19378102\n",
              "4       Texas  2000    20851820\n",
              "5       Texas  2010    25145561"
            ]
          },
          "metadata": {
            "tags": []
          },
          "execution_count": 41
        }
      ]
    },
    {
      "cell_type": "markdown",
      "metadata": {
        "deletable": true,
        "editable": true,
        "id": "ULKE8oyFR40A",
        "colab_type": "text"
      },
      "source": [
        "Often when working with data in the real world, the raw input data looks like this and it's useful to build a ``MultiIndex`` from the column values.\n",
        "This can be done with the ``set_index`` method of the ``DataFrame``, which returns a multiply indexed ``DataFrame``:"
      ]
    },
    {
      "cell_type": "code",
      "metadata": {
        "deletable": true,
        "editable": true,
        "id": "XghuUC1RR40A",
        "colab_type": "code",
        "colab": {},
        "outputId": "ce40b8e6-aefd-4809-e0c7-1d17d8936322"
      },
      "source": [
        "pop_flat.set_index(['state', 'year'])"
      ],
      "execution_count": null,
      "outputs": [
        {
          "output_type": "execute_result",
          "data": {
            "text/html": [
              "<div>\n",
              "<table border=\"1\" class=\"dataframe\">\n",
              "  <thead>\n",
              "    <tr style=\"text-align: right;\">\n",
              "      <th></th>\n",
              "      <th></th>\n",
              "      <th>population</th>\n",
              "    </tr>\n",
              "    <tr>\n",
              "      <th>state</th>\n",
              "      <th>year</th>\n",
              "      <th></th>\n",
              "    </tr>\n",
              "  </thead>\n",
              "  <tbody>\n",
              "    <tr>\n",
              "      <th rowspan=\"2\" valign=\"top\">California</th>\n",
              "      <th>2000</th>\n",
              "      <td>33871648</td>\n",
              "    </tr>\n",
              "    <tr>\n",
              "      <th>2010</th>\n",
              "      <td>37253956</td>\n",
              "    </tr>\n",
              "    <tr>\n",
              "      <th rowspan=\"2\" valign=\"top\">New York</th>\n",
              "      <th>2000</th>\n",
              "      <td>18976457</td>\n",
              "    </tr>\n",
              "    <tr>\n",
              "      <th>2010</th>\n",
              "      <td>19378102</td>\n",
              "    </tr>\n",
              "    <tr>\n",
              "      <th rowspan=\"2\" valign=\"top\">Texas</th>\n",
              "      <th>2000</th>\n",
              "      <td>20851820</td>\n",
              "    </tr>\n",
              "    <tr>\n",
              "      <th>2010</th>\n",
              "      <td>25145561</td>\n",
              "    </tr>\n",
              "  </tbody>\n",
              "</table>\n",
              "</div>"
            ],
            "text/plain": [
              "                 population\n",
              "state      year            \n",
              "California 2000    33871648\n",
              "           2010    37253956\n",
              "New York   2000    18976457\n",
              "           2010    19378102\n",
              "Texas      2000    20851820\n",
              "           2010    25145561"
            ]
          },
          "metadata": {
            "tags": []
          },
          "execution_count": 42
        }
      ]
    },
    {
      "cell_type": "markdown",
      "metadata": {
        "deletable": true,
        "editable": true,
        "id": "CwXnR9NoR40E",
        "colab_type": "text"
      },
      "source": [
        "In practice, I find this type of reindexing to be one of the more useful patterns when encountering real-world datasets."
      ]
    },
    {
      "cell_type": "markdown",
      "metadata": {
        "deletable": true,
        "editable": true,
        "id": "OnQzvPJ8R40G",
        "colab_type": "text"
      },
      "source": [
        "## Data Aggregations on Multi-Indices\n",
        "\n",
        "We've previously seen that Pandas has built-in data aggregation methods, such as ``mean()``, ``sum()``, and ``max()``.\n",
        "For hierarchically indexed data, these can be passed a ``level`` parameter that controls which subset of the data the aggregate is computed on.\n",
        "\n",
        "For example, let's return to our health data:"
      ]
    },
    {
      "cell_type": "code",
      "metadata": {
        "deletable": true,
        "editable": true,
        "id": "1USp2ESER40H",
        "colab_type": "code",
        "colab": {},
        "outputId": "733ef7d8-8486-408b-e57c-5176dbcaba48"
      },
      "source": [
        "health_data"
      ],
      "execution_count": null,
      "outputs": [
        {
          "output_type": "execute_result",
          "data": {
            "text/html": [
              "<div>\n",
              "<table border=\"1\" class=\"dataframe\">\n",
              "  <thead>\n",
              "    <tr>\n",
              "      <th></th>\n",
              "      <th>subject</th>\n",
              "      <th colspan=\"2\" halign=\"left\">Bob</th>\n",
              "      <th colspan=\"2\" halign=\"left\">Guido</th>\n",
              "      <th colspan=\"2\" halign=\"left\">Sue</th>\n",
              "    </tr>\n",
              "    <tr>\n",
              "      <th></th>\n",
              "      <th>type</th>\n",
              "      <th>HR</th>\n",
              "      <th>Temp</th>\n",
              "      <th>HR</th>\n",
              "      <th>Temp</th>\n",
              "      <th>HR</th>\n",
              "      <th>Temp</th>\n",
              "    </tr>\n",
              "    <tr>\n",
              "      <th>year</th>\n",
              "      <th>visit</th>\n",
              "      <th></th>\n",
              "      <th></th>\n",
              "      <th></th>\n",
              "      <th></th>\n",
              "      <th></th>\n",
              "      <th></th>\n",
              "    </tr>\n",
              "  </thead>\n",
              "  <tbody>\n",
              "    <tr>\n",
              "      <th rowspan=\"2\" valign=\"top\">2013</th>\n",
              "      <th>1</th>\n",
              "      <td>31.0</td>\n",
              "      <td>38.7</td>\n",
              "      <td>32.0</td>\n",
              "      <td>36.7</td>\n",
              "      <td>35.0</td>\n",
              "      <td>37.2</td>\n",
              "    </tr>\n",
              "    <tr>\n",
              "      <th>2</th>\n",
              "      <td>44.0</td>\n",
              "      <td>37.7</td>\n",
              "      <td>50.0</td>\n",
              "      <td>35.0</td>\n",
              "      <td>29.0</td>\n",
              "      <td>36.7</td>\n",
              "    </tr>\n",
              "    <tr>\n",
              "      <th rowspan=\"2\" valign=\"top\">2014</th>\n",
              "      <th>1</th>\n",
              "      <td>30.0</td>\n",
              "      <td>37.4</td>\n",
              "      <td>39.0</td>\n",
              "      <td>37.8</td>\n",
              "      <td>61.0</td>\n",
              "      <td>36.9</td>\n",
              "    </tr>\n",
              "    <tr>\n",
              "      <th>2</th>\n",
              "      <td>47.0</td>\n",
              "      <td>37.8</td>\n",
              "      <td>48.0</td>\n",
              "      <td>37.3</td>\n",
              "      <td>51.0</td>\n",
              "      <td>36.5</td>\n",
              "    </tr>\n",
              "  </tbody>\n",
              "</table>\n",
              "</div>"
            ],
            "text/plain": [
              "subject      Bob       Guido         Sue      \n",
              "type          HR  Temp    HR  Temp    HR  Temp\n",
              "year visit                                    \n",
              "2013 1      31.0  38.7  32.0  36.7  35.0  37.2\n",
              "     2      44.0  37.7  50.0  35.0  29.0  36.7\n",
              "2014 1      30.0  37.4  39.0  37.8  61.0  36.9\n",
              "     2      47.0  37.8  48.0  37.3  51.0  36.5"
            ]
          },
          "metadata": {
            "tags": []
          },
          "execution_count": 43
        }
      ]
    },
    {
      "cell_type": "markdown",
      "metadata": {
        "deletable": true,
        "editable": true,
        "id": "ki2QSSB_R40N",
        "colab_type": "text"
      },
      "source": [
        "Perhaps we'd like to average-out the measurements in the two visits each year. We can do this by naming the index level we'd like to explore, in this case the year:"
      ]
    },
    {
      "cell_type": "code",
      "metadata": {
        "deletable": true,
        "editable": true,
        "id": "7NG36sY_R40O",
        "colab_type": "code",
        "colab": {},
        "outputId": "f6983df0-9a39-4beb-bf4d-09689b450b5b"
      },
      "source": [
        "data_mean = health_data.mean(level='year')\n",
        "data_mean"
      ],
      "execution_count": null,
      "outputs": [
        {
          "output_type": "execute_result",
          "data": {
            "text/html": [
              "<div>\n",
              "<table border=\"1\" class=\"dataframe\">\n",
              "  <thead>\n",
              "    <tr>\n",
              "      <th>subject</th>\n",
              "      <th colspan=\"2\" halign=\"left\">Bob</th>\n",
              "      <th colspan=\"2\" halign=\"left\">Guido</th>\n",
              "      <th colspan=\"2\" halign=\"left\">Sue</th>\n",
              "    </tr>\n",
              "    <tr>\n",
              "      <th>type</th>\n",
              "      <th>HR</th>\n",
              "      <th>Temp</th>\n",
              "      <th>HR</th>\n",
              "      <th>Temp</th>\n",
              "      <th>HR</th>\n",
              "      <th>Temp</th>\n",
              "    </tr>\n",
              "    <tr>\n",
              "      <th>year</th>\n",
              "      <th></th>\n",
              "      <th></th>\n",
              "      <th></th>\n",
              "      <th></th>\n",
              "      <th></th>\n",
              "      <th></th>\n",
              "    </tr>\n",
              "  </thead>\n",
              "  <tbody>\n",
              "    <tr>\n",
              "      <th>2013</th>\n",
              "      <td>37.5</td>\n",
              "      <td>38.2</td>\n",
              "      <td>41.0</td>\n",
              "      <td>35.85</td>\n",
              "      <td>32.0</td>\n",
              "      <td>36.95</td>\n",
              "    </tr>\n",
              "    <tr>\n",
              "      <th>2014</th>\n",
              "      <td>38.5</td>\n",
              "      <td>37.6</td>\n",
              "      <td>43.5</td>\n",
              "      <td>37.55</td>\n",
              "      <td>56.0</td>\n",
              "      <td>36.70</td>\n",
              "    </tr>\n",
              "  </tbody>\n",
              "</table>\n",
              "</div>"
            ],
            "text/plain": [
              "subject   Bob       Guido          Sue       \n",
              "type       HR  Temp    HR   Temp    HR   Temp\n",
              "year                                         \n",
              "2013     37.5  38.2  41.0  35.85  32.0  36.95\n",
              "2014     38.5  37.6  43.5  37.55  56.0  36.70"
            ]
          },
          "metadata": {
            "tags": []
          },
          "execution_count": 44
        }
      ]
    },
    {
      "cell_type": "markdown",
      "metadata": {
        "deletable": true,
        "editable": true,
        "id": "v2UjBButR40Q",
        "colab_type": "text"
      },
      "source": [
        "By further making use of the ``axis`` keyword, we can take the mean among levels on the columns as well:"
      ]
    },
    {
      "cell_type": "code",
      "metadata": {
        "deletable": true,
        "editable": true,
        "id": "bgdnv9_jR40R",
        "colab_type": "code",
        "colab": {},
        "outputId": "aaf80b5f-00d2-4fd5-cb8d-2961d83b5bd8"
      },
      "source": [
        "data_mean.mean(axis=1, level='type')"
      ],
      "execution_count": null,
      "outputs": [
        {
          "output_type": "execute_result",
          "data": {
            "text/html": [
              "<div>\n",
              "<table border=\"1\" class=\"dataframe\">\n",
              "  <thead>\n",
              "    <tr style=\"text-align: right;\">\n",
              "      <th>type</th>\n",
              "      <th>HR</th>\n",
              "      <th>Temp</th>\n",
              "    </tr>\n",
              "    <tr>\n",
              "      <th>year</th>\n",
              "      <th></th>\n",
              "      <th></th>\n",
              "    </tr>\n",
              "  </thead>\n",
              "  <tbody>\n",
              "    <tr>\n",
              "      <th>2013</th>\n",
              "      <td>36.833333</td>\n",
              "      <td>37.000000</td>\n",
              "    </tr>\n",
              "    <tr>\n",
              "      <th>2014</th>\n",
              "      <td>46.000000</td>\n",
              "      <td>37.283333</td>\n",
              "    </tr>\n",
              "  </tbody>\n",
              "</table>\n",
              "</div>"
            ],
            "text/plain": [
              "type         HR       Temp\n",
              "year                      \n",
              "2013  36.833333  37.000000\n",
              "2014  46.000000  37.283333"
            ]
          },
          "metadata": {
            "tags": []
          },
          "execution_count": 45
        }
      ]
    },
    {
      "cell_type": "markdown",
      "metadata": {
        "deletable": true,
        "editable": true,
        "id": "tMcTItOhR40T",
        "colab_type": "text"
      },
      "source": [
        "Thus in two lines, we've been able to find the average heart rate and temperature measured among all subjects in all visits each year.\n",
        "This syntax is actually a short cut to the ``GroupBy`` functionality, which we will discuss in [Aggregation and Grouping](03.08-Aggregation-and-Grouping.ipynb).\n",
        "While this is a toy example, many real-world datasets have similar hierarchical structure."
      ]
    },
    {
      "cell_type": "markdown",
      "metadata": {
        "deletable": true,
        "editable": true,
        "id": "UHAoxiTVR40T",
        "colab_type": "text"
      },
      "source": [
        "## Aside: Panel Data\n",
        "\n",
        "Pandas has a few other fundamental data structures that we have not yet discussed, namely the ``pd.Panel`` and ``pd.Panel4D`` objects.\n",
        "These can be thought of, respectively, as three-dimensional and four-dimensional generalizations of the (one-dimensional) ``Series`` and (two-dimensional) ``DataFrame`` structures.\n",
        "Once you are familiar with indexing and manipulation of data in a ``Series`` and ``DataFrame``, ``Panel`` and ``Panel4D`` are relatively straightforward to use.\n",
        "In particular, the ``ix``, ``loc``, and ``iloc`` indexers discussed in [Data Indexing and Selection](03.02-Data-Indexing-and-Selection.ipynb) extend readily to these higher-dimensional structures.\n",
        "\n",
        "We won't cover these panel structures further in this text, as I've found in the majority of cases that multi-indexing is a more useful and conceptually simpler representation for higher-dimensional data.\n",
        "Additionally, panel data is fundamentally a dense data representation, while multi-indexing is fundamentally a sparse data representation.\n",
        "As the number of dimensions increases, the dense representation can become very inefficient for the majority of real-world datasets.\n",
        "For the occasional specialized application, however, these structures can be useful.\n",
        "If you'd like to read more about the ``Panel`` and ``Panel4D`` structures, see the references listed in [Further Resources](03.13-Further-Resources.ipynb)."
      ]
    },
    {
      "cell_type": "markdown",
      "metadata": {
        "deletable": true,
        "editable": true,
        "id": "rX18Wy1pR40U",
        "colab_type": "text"
      },
      "source": [
        "<!--NAVIGATION-->\n",
        "< [Handling Missing Data](03.04-Missing-Values.ipynb) | [Contents](Index.ipynb) | [Combining Datasets: Concat and Append](03.06-Concat-And-Append.ipynb) >\n",
        "\n",
        "<a href=\"https://colab.research.google.com/github/jakevdp/PythonDataScienceHandbook/blob/master/notebooks/03.05-Hierarchical-Indexing.ipynb\"><img align=\"left\" src=\"https://colab.research.google.com/assets/colab-badge.svg\" alt=\"Open in Colab\" title=\"Open and Execute in Google Colaboratory\"></a>\n"
      ]
    }
  ]
}